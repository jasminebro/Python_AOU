{
  "cells": [
    {
      "cell_type": "raw",
      "metadata": {},
      "source": [
        "---\n",
        "title: Data Types Structures\n",
        "format: ipynb\n",
        "editor: visual\n",
        "---"
      ],
      "id": "ed7adab5"
    },
    {
      "cell_type": "markdown",
      "metadata": {},
      "source": [
        "# Day1: Data Type and Structures\n",
        "\n",
        "\n",
        "```{r setup}\n",
        "\n",
        "#| echo: false\n",
        "\n",
        "library(reticulate)\n",
        "\n",
        "```\n",
        "\n",
        "\n",
        "## Data Types\n",
        "\n",
        "## Strings\n",
        "\n",
        "-   Strings are defined as a sequence of characters. Strings are called str in Python.\n",
        "\n",
        "-   All characters between a set of \" \" are a part of a string.\n"
      ],
      "id": "1efb6ed5"
    },
    {
      "cell_type": "code",
      "metadata": {
        "md-indent": "    "
      },
      "source": [
        "print(\"Welcome to the Baylor College of Medicine AOU Data Science Training\")\n",
        "\n",
        "print(\"Are you excited? YES!\")"
      ],
      "id": "99b5ebfe",
      "execution_count": null,
      "outputs": []
    },
    {
      "cell_type": "markdown",
      "metadata": {},
      "source": [
        "## Integers\n",
        "\n",
        "-   No limit on how long an interger can be\n"
      ],
      "id": "8478e929"
    },
    {
      "cell_type": "code",
      "metadata": {
        "md-indent": "    "
      },
      "source": [
        "print(88888888888888)\n",
        "\n",
        "type(888888888)"
      ],
      "id": "f3959060",
      "execution_count": null,
      "outputs": []
    },
    {
      "cell_type": "markdown",
      "metadata": {},
      "source": [
        "## Float-Point Numbers\n"
      ],
      "id": "912c6f4c"
    },
    {
      "cell_type": "code",
      "metadata": {},
      "source": [
        "print(7.6)\n",
        "\n",
        "type(7.6)\n",
        "\n",
        "print(.7e9)\n",
        "\n",
        "type(.7e9)"
      ],
      "id": "000d6ac3",
      "execution_count": null,
      "outputs": []
    },
    {
      "cell_type": "markdown",
      "metadata": {},
      "source": [
        "## Booleans \n",
        "\n",
        "-   Boolean variables will have the value of True or False\n"
      ],
      "id": "467a2861"
    },
    {
      "cell_type": "code",
      "metadata": {
        "md-indent": "    "
      },
      "source": [
        "type(True)\n",
        "type(False)\n",
        "\n",
        "homes = [\"logcabin\", \"brick\"]\n",
        "\n",
        "\"brick\" in homes "
      ],
      "id": "dd316858",
      "execution_count": null,
      "outputs": []
    },
    {
      "cell_type": "markdown",
      "metadata": {},
      "source": [
        "## Data Structures\n",
        "\n",
        "### Tuples\n",
        "\n",
        "-   Fixed length immutable objects that cannot be changed once assigned.\n",
        "\n",
        "-   Easily created by having comma separated values enclosed in parenthesis\n"
      ],
      "id": "89ef3446"
    },
    {
      "cell_type": "code",
      "metadata": {
        "md-indent": "    "
      },
      "source": [
        " TupleExample = (7,8,9) #create sequence of numbers TupleExample\n",
        " \n",
        " TupleExample"
      ],
      "id": "0082e44c",
      "execution_count": null,
      "outputs": []
    },
    {
      "cell_type": "markdown",
      "metadata": {},
      "source": [
        "### Lists\n",
        "\n",
        "-   Variable length and contents can be modified and are mutable\n",
        "\n",
        "-   Created by using \\[\\] or just the list function list()\n"
      ],
      "id": "0a285d46"
    },
    {
      "cell_type": "code",
      "metadata": {},
      "source": [
        "ListA = [2,2,5]\n",
        "ListA\n",
        "\n",
        "Tup = (5,0,4)\n",
        "Tup\n",
        "\n",
        "ListB = list(Tup)\n",
        "ListB\n"
      ],
      "id": "f2abce3a",
      "execution_count": null,
      "outputs": []
    },
    {
      "cell_type": "markdown",
      "metadata": {},
      "source": [
        "#### Adding and Removing\n",
        "\n",
        "##### **Append**\n"
      ],
      "id": "4837d575"
    },
    {
      "cell_type": "code",
      "metadata": {},
      "source": [
        "ListA.append(\"Mia\")\n",
        "ListA"
      ],
      "id": "45346527",
      "execution_count": null,
      "outputs": []
    },
    {
      "cell_type": "markdown",
      "metadata": {},
      "source": [
        "##### **Insert**\n",
        "\n",
        "-   You can insert at a certain location\n",
        "\n",
        "-   Note: In python, counting/indexing begins at 0. So, \"crawfish\" will insert as the second element in our list.\n"
      ],
      "id": "b2ffc792"
    },
    {
      "cell_type": "code",
      "metadata": {},
      "source": [
        "ListA.insert(1,\"crawfish\")\n",
        "ListA"
      ],
      "id": "7586156c",
      "execution_count": null,
      "outputs": []
    },
    {
      "cell_type": "markdown",
      "metadata": {},
      "source": [
        "##### Pop\n",
        "\n",
        "-   Removes and returns at a certain location\n"
      ],
      "id": "e43dda42"
    },
    {
      "cell_type": "code",
      "metadata": {},
      "source": [
        "ListA.pop(2)\n",
        "\n",
        "ListA\n"
      ],
      "id": "c20999c9",
      "execution_count": null,
      "outputs": []
    },
    {
      "cell_type": "markdown",
      "metadata": {},
      "source": [
        "##### Remove\n",
        "\n",
        "-   removes first instance\n"
      ],
      "id": "70209f4c"
    },
    {
      "cell_type": "code",
      "metadata": {},
      "source": [
        "ListA.remove(\"crawfish\")\n",
        "ListA"
      ],
      "id": "d2d1d5bb",
      "execution_count": null,
      "outputs": []
    },
    {
      "cell_type": "markdown",
      "metadata": {},
      "source": [
        "##### Combining/ Concatenating\n",
        "\n",
        "-   Using the + sign will concatenate a list or tuple\n"
      ],
      "id": "99e682fa"
    },
    {
      "cell_type": "code",
      "metadata": {
        "md-indent": "    "
      },
      "source": [
        "[\"five\",\"love\",\"biology\"] + [\"LSU\", \"BCM\", \"LA\"]"
      ],
      "id": "3625f4b6",
      "execution_count": null,
      "outputs": []
    },
    {
      "cell_type": "markdown",
      "metadata": {},
      "source": [
        "-   You can append multiple elements by using extend\n"
      ],
      "id": "a3094313"
    },
    {
      "cell_type": "code",
      "metadata": {
        "md-indent": "    "
      },
      "source": [
        "y = [6,\"house\", \"car\"]\n",
        "\n",
        "y.extend([9,0,(32,3)])\n",
        "\n",
        "y"
      ],
      "id": "0bf4dafe",
      "execution_count": null,
      "outputs": []
    },
    {
      "cell_type": "markdown",
      "metadata": {},
      "source": [
        "##### Sorting\n",
        "\n",
        "-   Sort items by value\n"
      ],
      "id": "d4915baa"
    },
    {
      "cell_type": "code",
      "metadata": {},
      "source": [
        "a = [5,3,1,90,56]\n",
        "a\n",
        "a.sort ()\n",
        "a"
      ],
      "id": "59435f73",
      "execution_count": null,
      "outputs": []
    },
    {
      "cell_type": "markdown",
      "metadata": {},
      "source": [
        "##### Slicing\n",
        "\n",
        "-   Extract a range of values with the basic form of start:stop and using the indexing operator \\[\\]\n"
      ],
      "id": "7721d818"
    },
    {
      "cell_type": "code",
      "metadata": {},
      "source": [
        "sequence = [\"cccccc\", \"ttttt\", \"aaaaa\", \"ccccc\"]\n",
        "\n",
        "sequence[0:2]"
      ],
      "id": "3765ecee",
      "execution_count": null,
      "outputs": []
    },
    {
      "cell_type": "markdown",
      "metadata": {},
      "source": [
        "#### Dictionary/ dict\n",
        "\n",
        "-   Stores key-value pairs. The key and value are both python objects.\n",
        "\n",
        "-   Typically {} and : are used to create Python dictionaries.\n"
      ],
      "id": "55b3d8b9"
    },
    {
      "cell_type": "code",
      "metadata": {
        "md-indent": "    "
      },
      "source": [
        "Dict1 = {\"car\":\"beetle\",\"model\":\"volkswagen\", \"year\": \"2010\"}\n",
        "\n",
        "Dict1\n",
        "\n",
        "Dict1[\"model\"] #Pull model\n",
        "\"model\" in Dict1 #Check to see if model is in the dictionary "
      ],
      "id": "5f3d14c7",
      "execution_count": null,
      "outputs": []
    },
    {
      "cell_type": "markdown",
      "metadata": {},
      "source": [
        "-   You can delete values using del or pop.\n"
      ],
      "id": "79e03a43"
    },
    {
      "cell_type": "code",
      "metadata": {
        "md-indent": "    "
      },
      "source": [
        "Dict1[\"state\"] = \"Louisiana\"\n",
        "\n",
        "Dict1\n",
        "\n",
        "Dict1[\"home\"] = \"Space\"\n",
        "\n",
        "Dict1\n",
        "\n",
        "del Dict1[\"state\"]\n",
        "\n",
        "Dict1.pop(\"home\")\n",
        "\n",
        "Dict1"
      ],
      "id": "6850d4b2",
      "execution_count": null,
      "outputs": []
    },
    {
      "cell_type": "markdown",
      "metadata": {},
      "source": [
        "-   You can get the keys and values individually, iterate and merge dictionaries\n"
      ],
      "id": "0b4ab6bb"
    },
    {
      "cell_type": "code",
      "metadata": {},
      "source": [
        "list(Dict1.keys())\n",
        "list(Dict1.values())\n",
        "\n",
        "#you can iterate over the values and keys by turning your dictionary into individual tuples \n",
        "\n",
        "list(Dict1.items())\n"
      ],
      "id": "acd7bf27",
      "execution_count": null,
      "outputs": []
    },
    {
      "cell_type": "markdown",
      "metadata": {},
      "source": [
        "#### Set\n",
        "\n",
        "-   A set is an unordered group of elements.\n",
        "\n",
        "-   Sets are created two ways: 1) with the set function 2) a set literal with {}\n"
      ],
      "id": "414aefae"
    },
    {
      "cell_type": "code",
      "metadata": {
        "md-indent": "    "
      },
      "source": [
        "set([4,7,8,9])\n",
        "\n",
        "{4,2,3,1}"
      ],
      "id": "1fd27f99",
      "execution_count": null,
      "outputs": []
    },
    {
      "cell_type": "markdown",
      "metadata": {},
      "source": [
        "To combine two sets you can use .union or \\|\n"
      ],
      "id": "8cc73a6e"
    },
    {
      "cell_type": "code",
      "metadata": {},
      "source": [
        "d = {4,5,6,8}\n",
        "e = {9,0,3}\n",
        "\n",
        "d.union(e)\n",
        "\n",
        "d|e"
      ],
      "id": "ba7f8765",
      "execution_count": null,
      "outputs": []
    },
    {
      "cell_type": "markdown",
      "metadata": {},
      "source": [
        "[Commonly use set methods reference:]{.underline}\n",
        "\n",
        "[https://www.geeksforgeeks.org/python-Commonly used set methods-methods/](https://www.geeksforgeeks.org/python-set-methods/ \"Commonly used set methods\")\n",
        "\n",
        "#### Built-In Sequence Functions\n",
        "\n",
        "-   useful functions that can and should be used when you get a chance\n",
        "\n",
        "#### enumerate\n",
        "\n",
        "-   When iterating and you want to keep track of an index/count you can use enumerate\n"
      ],
      "id": "c4648524"
    },
    {
      "cell_type": "code",
      "metadata": {
        "md-indent": "    "
      },
      "source": [
        "for index,value in enumerate(d):\n",
        "  print(f'{index}:{value}')"
      ],
      "id": "14ffc314",
      "execution_count": null,
      "outputs": []
    },
    {
      "cell_type": "markdown",
      "metadata": {},
      "source": [
        "#### sorted\n",
        "\n",
        "-   returns a new sorted list from input sequence\n"
      ],
      "id": "a55ac020"
    },
    {
      "cell_type": "code",
      "metadata": {
        "md-indent": "    "
      },
      "source": [
        "sorted(\"Baylor College of Medicine\")"
      ],
      "id": "5eb57bbf",
      "execution_count": null,
      "outputs": []
    },
    {
      "cell_type": "markdown",
      "metadata": {},
      "source": [
        "#### zip\n",
        "\n",
        "-   creates pairs of items from a group of lists, tuples, or sequences\n"
      ],
      "id": "045c09c5"
    },
    {
      "cell_type": "code",
      "metadata": {},
      "source": [
        "item1 = [\"goodmorning\", \"hello\", \"goodbye\"]\n",
        "item2= [\"goodnight\", \"world\", \"friend\"]\n",
        "\n",
        "zipitems = zip(item1,item2)\n",
        "\n",
        "list(zipitems)"
      ],
      "id": "494ac01f",
      "execution_count": null,
      "outputs": []
    },
    {
      "cell_type": "markdown",
      "metadata": {},
      "source": [
        "-   A common use of zip is to combine it with enumerate to iterate multiples items\n"
      ],
      "id": "300f0d67"
    },
    {
      "cell_type": "code",
      "metadata": {
        "md-indent": "    "
      },
      "source": [
        "item1 = [\"goodmorning\", \"hello\", \"goodbye\"]\n",
        "item2= [\"goodnight\", \"world\", \"friend\"]\n",
        "\n",
        "for index, (a,b) in enumerate(zip(item1, item2)):\n",
        "    print(f\"{index}: {a},{b}\")"
      ],
      "id": "b492733a",
      "execution_count": null,
      "outputs": []
    },
    {
      "cell_type": "markdown",
      "metadata": {},
      "source": [
        "#### reversed\n",
        "\n",
        "-   iterates over a sequence of items in reverse order\n"
      ],
      "id": "3c8a6c46"
    },
    {
      "cell_type": "code",
      "metadata": {},
      "source": [
        "list(reversed(\"Baylor College of Medicine\"))"
      ],
      "id": "6cde0c3e",
      "execution_count": null,
      "outputs": []
    },
    {
      "cell_type": "markdown",
      "metadata": {},
      "source": [
        "### List, Set and Dictionary Comprehensions\n",
        "\n",
        "-   List comprehensions are widely used in Python programming\n",
        "\n",
        "-   Allows you to form a new list by filtering items of another collection, transforming items passing your chosen filter/conditions into one new expression\n",
        "\n",
        "    -   Their basic form is : \\[*expression* for value in collection if *condition*\\]\n",
        "\n",
        "-   An equivalent for loop is as follows:\n",
        "\n",
        "    result = \\[\\]\n",
        "\n",
        "    for value in collection:\n",
        "\n",
        "    if condition:\n",
        "\n",
        "    result.append(expression)\n",
        "\n",
        "-   Let's filter out cities that begin with A and if they begin with A capitalize the entire city name of a list\n",
        "\n",
        "-   The same technique can be used with dictionaries and sets.\n"
      ],
      "id": "c63bb064"
    },
    {
      "cell_type": "code",
      "metadata": {},
      "source": [
        "#list comprehension\n",
        "\n",
        "cities =[\"Adline\", \"Calhoun\", \"Rushing\", \"Alvin\"]\n",
        "\n",
        "[x.upper() for x in cities if x.startswith(\"A\")]\n"
      ],
      "id": "9bc553f1",
      "execution_count": null,
      "outputs": []
    },
    {
      "cell_type": "markdown",
      "metadata": {},
      "source": [
        "### Nested List Comprehensions\n",
        "\n",
        "-   Sometimes data or statistics are listed within a list or nested and it is important to know how to extract the information most important to your project.\n",
        "\n",
        "-   List comprehensions uses the for and in keywords to identify what you want to iterate over\n",
        "\n",
        "The statement must be inside of square brackets\n"
      ],
      "id": "d6fe353a"
    },
    {
      "cell_type": "code",
      "metadata": {},
      "source": [
        "# alist= [expression for item in list] "
      ],
      "id": "8b435f47",
      "execution_count": null,
      "outputs": []
    },
    {
      "cell_type": "markdown",
      "metadata": {},
      "source": [
        "Expression: the expression used to modify each item\n",
        "\n",
        "Item: the element in the iterable/ list\n",
        "\n",
        "List: the iterable object\n"
      ],
      "id": "23103391"
    },
    {
      "cell_type": "code",
      "metadata": {},
      "source": [
        "# \n",
        "# compr_list = [[expression for item in list] for item in list]"
      ],
      "id": "c3539045",
      "execution_count": null,
      "outputs": []
    },
    {
      "cell_type": "code",
      "metadata": {},
      "source": [
        "matrix = [[1,2,3],\n",
        "          [4,5,6],\n",
        "          [7,8,9]]\n",
        "          \n",
        "flattened = [x for row in matrix for x in row]\n",
        "\n",
        "flattened\n"
      ],
      "id": "7f756e45",
      "execution_count": null,
      "outputs": []
    },
    {
      "cell_type": "markdown",
      "metadata": {},
      "source": [
        "### Built-in Functions\n",
        "\n",
        "Please use the link below to reference the official Python documentation about built-in Functions.\n",
        "\n",
        "<https://docs.python.org/3/library/functions.html>\n",
        "\n",
        "-   Some examples of commonly used built-in functions are below.\n"
      ],
      "id": "b2fff4f4"
    },
    {
      "cell_type": "code",
      "metadata": {},
      "source": [
        "abs(-5)\n",
        "max(5,7,9,29)\n",
        "round(5.6)\n",
        "\n",
        "float(67)\n",
        "int(87.2)\n",
        "\n",
        "values = [6 < 7, 9 == 9]\n",
        "\n",
        "all(values)\n",
        "any(values)\n",
        "len(values)\n",
        "\n",
        "a=69\n",
        "type(a)\n",
        "str(a)\n",
        "\n",
        "\n",
        "\n",
        "help() #starts the built-in help system"
      ],
      "id": "fadf4d18",
      "execution_count": null,
      "outputs": []
    }
  ],
  "metadata": {
    "kernelspec": {
      "name": "python3",
      "language": "python",
      "display_name": "Python 3 (ipykernel)"
    }
  },
  "nbformat": 4,
  "nbformat_minor": 5
}
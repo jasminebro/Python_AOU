{
  "cells": [
    {
      "cell_type": "markdown",
      "metadata": {},
      "source": [
        "# Day 1\n",
        "\n",
        "# Day1\n",
        "\n",
        "\\`\\`\\`{r setup}\n",
        "\n",
        "#\\| echo: false\n",
        "\n",
        "library(reticulate)\n",
        "\n",
        "\n",
        "\n",
        "\n",
        "    ## Data Structures\n",
        "\n",
        "    ### Tuples\n",
        "\n",
        "    -   Fixed length immutable objects that cannot be changed once assigned.\n",
        "\n",
        "    -   Easily created by having comma separated values enclosed in parenthesis\n",
        "\n",
        "\n",
        "        ::: {.cell execution_count=1}\n",
        "        ``` {.python .cell-code}\n",
        "         TupleExample = (7,8,9) #create sequence of numbers TupleExample\n",
        "         \n",
        "         TupleExample\n",
        "        ```\n",
        "        \n",
        "        ::: {.cell-output .cell-output-display execution_count=1}\n",
        "        ```\n",
        "        (7, 8, 9)\n",
        "        ```\n",
        "        :::\n",
        "        :::\n",
        "        \n",
        "        \n",
        "    ### Lists\n",
        "\n",
        "    -   Variable length and contents can be modified and are mutable\n",
        "\n",
        "    -   Created by using \\[\\] or just the list function\n",
        "\n",
        "    ::: {.cell execution_count=2}\n",
        "    ``` {.python .cell-code}\n",
        "    ListA = [2,2,5]\n",
        "    ListA\n",
        "\n",
        "    Tup = (5,0,4)\n",
        "    Tup\n",
        "\n",
        "    ListB = list(Tup)\n",
        "    ListB\n",
        "\n",
        "    [5, 0, 4]\n",
        "\n",
        ":::\n",
        "\n",
        "#### Adding and Removing\n",
        "\n",
        "##### **Append**"
      ],
      "id": "df1a1d4f-1b71-4c35-8c25-bc66bd7e1f8a"
    },
    {
      "cell_type": "code",
      "execution_count": 3,
      "metadata": {},
      "outputs": [
        {
          "output_type": "display_data",
          "metadata": {},
          "data": {
            "text/plain": [
              "[2, 2, 5, 'Mia']"
            ]
          }
        }
      ],
      "source": [
        "ListA.append(\"Mia\")\n",
        "ListA"
      ],
      "id": "6be0cf72-b13a-44ec-99d5-1ddb691fbb3a"
    },
    {
      "cell_type": "markdown",
      "metadata": {},
      "source": [
        "##### **Insert**\n",
        "\n",
        "-   You can insert at a certain location\n",
        "\n",
        "-   Note: In python, counting/indexing begins at 0. So, “crawfish” will\n",
        "    insert as the second element in our list."
      ],
      "id": "49e6a394-b582-4bb1-8e21-12c328656def"
    },
    {
      "cell_type": "code",
      "execution_count": 4,
      "metadata": {},
      "outputs": [
        {
          "output_type": "display_data",
          "metadata": {},
          "data": {
            "text/plain": [
              "[2, 'crawfish', 2, 5, 'Mia']"
            ]
          }
        }
      ],
      "source": [
        "ListA.insert(1,\"crawfish\")\n",
        "ListA"
      ],
      "id": "dd869707-78ce-4350-9fd4-4103bb49e884"
    },
    {
      "cell_type": "markdown",
      "metadata": {},
      "source": [
        "##### Pop\n",
        "\n",
        "-   Removes and returns at a certain location"
      ],
      "id": "d95ced5c-f034-480e-a58f-669849064885"
    },
    {
      "cell_type": "code",
      "execution_count": 5,
      "metadata": {},
      "outputs": [
        {
          "output_type": "display_data",
          "metadata": {},
          "data": {
            "text/plain": [
              "[2, 'crawfish', 5, 'Mia']"
            ]
          }
        }
      ],
      "source": [
        "ListA.pop(2)\n",
        "\n",
        "ListA\n"
      ],
      "id": "edfa41c1-920b-4522-9ebd-908e8f7be3fb"
    },
    {
      "cell_type": "markdown",
      "metadata": {},
      "source": [
        "##### Remove\n",
        "\n",
        "-   removes first instance"
      ],
      "id": "863321c7-98bf-4b29-beb4-c52b6d487130"
    },
    {
      "cell_type": "code",
      "execution_count": 6,
      "metadata": {},
      "outputs": [
        {
          "output_type": "display_data",
          "metadata": {},
          "data": {
            "text/plain": [
              "[2, 5, 'Mia']"
            ]
          }
        }
      ],
      "source": [
        "ListA.remove(\"crawfish\")\n",
        "ListA"
      ],
      "id": "321bcc1e-2800-47ba-9ca7-d2812b5b2622"
    },
    {
      "cell_type": "markdown",
      "metadata": {},
      "source": [
        "##### Combining/ Concatenating\n",
        "\n",
        "-   Using the + sign will concatenate a list or tuple\n",
        "\n",
        "    ``` python\n",
        "    [\"five\",\"love\",\"biology\"] + [\"LSU\", \"BCM\", \"LA\"]\n",
        "    ```\n",
        "\n",
        "        ['five', 'love', 'biology', 'LSU', 'BCM', 'LA']\n",
        "\n",
        "## Functions\n",
        "\n",
        "## Files"
      ],
      "id": "2b69ef23-b404-4256-a6e5-c013ffd9962c"
    }
  ],
  "nbformat": 4,
  "nbformat_minor": 5,
  "metadata": {
    "kernelspec": {
      "name": "python3",
      "display_name": "Python 3 (ipykernel)",
      "language": "python"
    },
    "language_info": {
      "name": "python",
      "codemirror_mode": {
        "name": "ipython",
        "version": "3"
      },
      "file_extension": ".py",
      "mimetype": "text/x-python",
      "nbconvert_exporter": "python",
      "pygments_lexer": "ipython3",
      "version": "3.10.8"
    }
  }
}
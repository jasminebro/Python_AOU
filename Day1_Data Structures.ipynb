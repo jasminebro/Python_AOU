{
  "cells": [
    {
      "cell_type": "markdown",
      "metadata": {},
      "source": [
        "# Data Structures\n",
        "\n",
        "# Day1: Data Structures\n",
        "\n",
        "\\`\\`\\`{r setup}\n",
        "\n",
        "#\\| echo: false\n",
        "\n",
        "library(reticulate)\n",
        "\n",
        "\n",
        "\n",
        "\n",
        "    ## Data Structures\n",
        "\n",
        "    ### Tuples\n",
        "\n",
        "    -   Fixed length immutable objects that cannot be changed once assigned.\n",
        "\n",
        "    -   Easily created by having comma separated values enclosed in parenthesis\n",
        "\n",
        "\n",
        "        ::: {.cell execution_count=1}\n",
        "        ``` {.python .cell-code}\n",
        "         TupleExample = (7,8,9) #create sequence of numbers TupleExample\n",
        "         \n",
        "         TupleExample\n",
        "        ```\n",
        "        \n",
        "        ::: {.cell-output .cell-output-display execution_count=1}\n",
        "        ```\n",
        "        (7, 8, 9)\n",
        "        ```\n",
        "        :::\n",
        "        :::\n",
        "        \n",
        "        \n",
        "    ### Lists\n",
        "\n",
        "    -   Variable length and contents can be modified and are mutable\n",
        "\n",
        "    -   Created by using \\[\\] or just the list function\n",
        "\n",
        "    ::: {.cell execution_count=2}\n",
        "    ``` {.python .cell-code}\n",
        "    ListA = [2,2,5]\n",
        "    ListA\n",
        "\n",
        "    Tup = (5,0,4)\n",
        "    Tup\n",
        "\n",
        "    ListB = list(Tup)\n",
        "    ListB\n",
        "\n",
        "    [5, 0, 4]\n",
        "\n",
        ":::\n",
        "\n",
        "#### Adding and Removing\n",
        "\n",
        "##### **Append**"
      ],
      "id": "8de4e932-2c4c-458f-bac4-2c8fc7974ad9"
    },
    {
      "cell_type": "code",
      "execution_count": 3,
      "metadata": {},
      "outputs": [
        {
          "output_type": "display_data",
          "metadata": {},
          "data": {
            "text/plain": [
              "[2, 2, 5, 'Mia']"
            ]
          }
        }
      ],
      "source": [
        "ListA.append(\"Mia\")\n",
        "ListA"
      ],
      "id": "1bbc0834-f91d-40bc-966f-250a8e62c534"
    },
    {
      "cell_type": "markdown",
      "metadata": {},
      "source": [
        "##### **Insert**\n",
        "\n",
        "-   You can insert at a certain location\n",
        "\n",
        "-   Note: In python, counting/indexing begins at 0. So, “crawfish” will\n",
        "    insert as the second element in our list."
      ],
      "id": "2cb8d439-f80b-4737-8258-e78fe6aa7a89"
    },
    {
      "cell_type": "code",
      "execution_count": 4,
      "metadata": {},
      "outputs": [
        {
          "output_type": "display_data",
          "metadata": {},
          "data": {
            "text/plain": [
              "[2, 'crawfish', 2, 5, 'Mia']"
            ]
          }
        }
      ],
      "source": [
        "ListA.insert(1,\"crawfish\")\n",
        "ListA"
      ],
      "id": "f5b86c33-95b6-4188-a461-9e409ea0172d"
    },
    {
      "cell_type": "markdown",
      "metadata": {},
      "source": [
        "##### Pop\n",
        "\n",
        "-   Removes and returns at a certain location"
      ],
      "id": "09386a76-ac71-4824-be72-ae8111ab777a"
    },
    {
      "cell_type": "code",
      "execution_count": 5,
      "metadata": {},
      "outputs": [
        {
          "output_type": "display_data",
          "metadata": {},
          "data": {
            "text/plain": [
              "[2, 'crawfish', 5, 'Mia']"
            ]
          }
        }
      ],
      "source": [
        "ListA.pop(2)\n",
        "\n",
        "ListA\n"
      ],
      "id": "afe99991-430d-43da-926b-48abca7d3a34"
    },
    {
      "cell_type": "markdown",
      "metadata": {},
      "source": [
        "##### Remove\n",
        "\n",
        "-   removes first instance"
      ],
      "id": "dbcb54d8-8d45-46c0-b5c0-e168cf9a0f8a"
    },
    {
      "cell_type": "code",
      "execution_count": 6,
      "metadata": {},
      "outputs": [
        {
          "output_type": "display_data",
          "metadata": {},
          "data": {
            "text/plain": [
              "[2, 5, 'Mia']"
            ]
          }
        }
      ],
      "source": [
        "ListA.remove(\"crawfish\")\n",
        "ListA"
      ],
      "id": "450d7ddb-5f66-4c30-ae69-20fd9bd3c2cf"
    },
    {
      "cell_type": "markdown",
      "metadata": {},
      "source": [
        "##### Combining/ Concatenating\n",
        "\n",
        "-   Using the + sign will concatenate a list or tuple\n",
        "\n",
        "    ``` python\n",
        "    [\"five\",\"love\",\"biology\"] + [\"LSU\", \"BCM\", \"LA\"]\n",
        "    ```\n",
        "\n",
        "        ['five', 'love', 'biology', 'LSU', 'BCM', 'LA']\n",
        "\n",
        "-   You can append multiple elements by using extend\n",
        "\n",
        "    ``` python\n",
        "    y = [6,\"house\", \"car\"]\n",
        "\n",
        "    y.extend([9,0,(32,3)])\n",
        "\n",
        "    y\n",
        "    ```\n",
        "\n",
        "        [6, 'house', 'car', 9, 0, (32, 3)]\n",
        "\n",
        "##### Sorting\n",
        "\n",
        "-   Sort items by value"
      ],
      "id": "28aeff26-0962-4cff-a050-069993382b83"
    },
    {
      "cell_type": "code",
      "execution_count": 9,
      "metadata": {},
      "outputs": [
        {
          "output_type": "display_data",
          "metadata": {},
          "data": {
            "text/plain": [
              "[1, 3, 5, 56, 90]"
            ]
          }
        }
      ],
      "source": [
        "a = [5,3,1,90,56]\n",
        "a\n",
        "a.sort ()\n",
        "a"
      ],
      "id": "8b715dc9-419c-41cd-ad56-afa28a6a11cc"
    },
    {
      "cell_type": "markdown",
      "metadata": {},
      "source": [
        "##### Slicing\n",
        "\n",
        "-   Extract a range of values with the basic form of start:stop and\n",
        "    using the indexing operator \\[\\]"
      ],
      "id": "ae44b897-7f6a-465e-ae27-38094e846ab4"
    },
    {
      "cell_type": "code",
      "execution_count": 10,
      "metadata": {},
      "outputs": [
        {
          "output_type": "display_data",
          "metadata": {},
          "data": {
            "text/plain": [
              "['cccccc', 'ttttt']"
            ]
          }
        }
      ],
      "source": [
        "sequence = [\"cccccc\", \"ttttt\", \"aaaaa\", \"ccccc\"]\n",
        "\n",
        "sequence[0:2]"
      ],
      "id": "3276318a-d21d-4183-99b9-45d1faf8c252"
    },
    {
      "cell_type": "markdown",
      "metadata": {},
      "source": [
        "#### Dictionary/ dict\n",
        "\n",
        "-   Stores key-value pairs. The key and value are both python objects.\n",
        "\n",
        "-   Typically {} and : are used to create Python dictionaries.\n",
        "\n",
        "    ``` python\n",
        "    Dict1 = {\"car\":\"beetle\",\"model\":\"volkswagen\", \"year\": \"2010\"}\n",
        "\n",
        "    Dict1\n",
        "\n",
        "    Dict1[\"model\"] #Pull model\n",
        "    \"model\" in Dict1 #Check to see if model is in the dictionary \n",
        "    ```\n",
        "\n",
        "        True\n",
        "\n",
        "-   You can delete values using del or pop.\n",
        "\n",
        "    ``` python\n",
        "    Dict1[\"state\"] = \"Louisiana\"\n",
        "\n",
        "    Dict1\n",
        "\n",
        "    Dict1[\"home\"] = \"Space\"\n",
        "\n",
        "    Dict1\n",
        "\n",
        "    del Dict1[\"state\"]\n",
        "\n",
        "    Dict1.pop(\"home\")\n",
        "\n",
        "    Dict1\n",
        "    ```\n",
        "\n",
        "        {'car': 'beetle', 'model': 'volkswagen', 'year': '2010'}\n",
        "\n",
        "-   You can get the keys and values individually, iterate and merge\n",
        "    dictionaries"
      ],
      "id": "8324868f-5b33-440b-b458-65f352468286"
    },
    {
      "cell_type": "code",
      "execution_count": 13,
      "metadata": {},
      "outputs": [
        {
          "output_type": "display_data",
          "metadata": {},
          "data": {
            "text/plain": [
              "[('car', 'beetle'), ('model', 'volkswagen'), ('year', '2010')]"
            ]
          }
        }
      ],
      "source": [
        "list(Dict1.keys())\n",
        "list(Dict1.values())\n",
        "\n",
        "#you can iterate over the values and keys by turning your dictionary into individual tuples \n",
        "\n",
        "list(Dict1.items())\n"
      ],
      "id": "d1c0571a-2b27-4beb-a8cf-70e69ecb91b2"
    },
    {
      "cell_type": "markdown",
      "metadata": {},
      "source": [
        "#### Set\n",
        "\n",
        "-   A set is an unordered group of elements.\n",
        "\n",
        "-   Sets are created two ways: 1) with the set function 2) a set literal\n",
        "    with {}\n",
        "\n",
        "    ``` python\n",
        "    set([4,7,8,9])\n",
        "\n",
        "    {4,2,3,1}\n",
        "    ```\n",
        "\n",
        "        {1, 2, 3, 4}"
      ],
      "id": "ce0a37e7-a1f0-4ccb-984a-cfc832e3919d"
    }
  ],
  "nbformat": 4,
  "nbformat_minor": 5,
  "metadata": {
    "kernelspec": {
      "name": "python3",
      "display_name": "Python 3 (ipykernel)",
      "language": "python"
    },
    "language_info": {
      "name": "python",
      "codemirror_mode": {
        "name": "ipython",
        "version": "3"
      },
      "file_extension": ".py",
      "mimetype": "text/x-python",
      "nbconvert_exporter": "python",
      "pygments_lexer": "ipython3",
      "version": "3.10.8"
    }
  }
}
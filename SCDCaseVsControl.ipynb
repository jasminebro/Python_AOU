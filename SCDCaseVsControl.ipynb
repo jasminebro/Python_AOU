import pandas
import random
from random import choices
from datetime import datetime
from tableone import TableOne
import seaborn as sns
import matplotlib.pyplot as plt
import warnings
import numpy as np
import scipy.stats as stats
import statsmodels.formula.api as smf
import forestplot as fp

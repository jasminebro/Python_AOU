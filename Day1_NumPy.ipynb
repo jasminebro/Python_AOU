{
  "cells": [
    {
      "cell_type": "markdown",
      "metadata": {},
      "source": [
        "# NumPy\n",
        "\n",
        "# NumPy\n",
        "\n",
        "-   NumPy is short for Numerical Python\n",
        "\n",
        "-   ndarray, an efficient multidimensional array providing fast\n",
        "    array-oriented arithmetic operations\n",
        "\n",
        "-   Math functions for fast operations to avoid writing loops\n",
        "\n",
        "-   Linear algebra and random number generation\n",
        "\n",
        "-   Designed for large arrays of data\n",
        "\n",
        "    ``` {r}\n",
        "    library(reticulate)\n",
        "    ```\n",
        "\n",
        "    ``` python\n",
        "    #creating a ndarray\n",
        "\n",
        "    import numpy as np \n",
        "\n",
        "    data1 = [6, 7.5, 8, 0, 1]\n",
        "\n",
        "    arr1 = np.array(data1)\n",
        "\n",
        "    print(arr1)\n",
        "    ```\n",
        "\n",
        "        [6.  7.5 8.  0.  1. ]"
      ],
      "id": "3b7f390f-148a-4c84-8930-67bbbcaf717f"
    },
    {
      "cell_type": "code",
      "execution_count": 2,
      "metadata": {},
      "outputs": [
        {
          "output_type": "stream",
          "name": "stdout",
          "text": [
            "[6, 7.5, 8, 0, 1, 6, 7.5, 8, 0, 1, 6, 7.5, 8, 0, 1, 6, 7.5, 8, 0, 1, 6, 7.5, 8, 0, 1, 6, 7.5, 8, 0, 1, 6, 7.5, 8, 0, 1, 6, 7.5, 8, 0, 1, 6, 7.5, 8, 0, 1, 6, 7.5, 8, 0, 1, 6, 7.5, 8, 0, 1, 6, 7.5, 8, 0, 1, 6, 7.5, 8, 0, 1, 6, 7.5, 8, 0, 1, 6, 7.5, 8, 0, 1, 6, 7.5, 8, 0, 1, 6, 7.5, 8, 0, 1, 6, 7.5, 8, 0, 1, 6, 7.5, 8, 0, 1, 6, 7.5, 8, 0, 1]\n",
            "[6, 7.5, 8, 0, 1, 6, 7.5, 8, 0, 1]"
          ]
        }
      ],
      "source": [
        "#Examples of batch computation \n",
        "print(data1 * 20)\n",
        "\n",
        "\n",
        "print(data1 + data1)"
      ],
      "id": "84d40130-209b-4288-a063-16f4be395ed8"
    },
    {
      "cell_type": "markdown",
      "metadata": {},
      "source": [
        "-   In addition to numpy.array, numpy.zeros and numpy.ones can be used\n",
        "    to create arrays of 0s or 1s with a given shape  \n",
        "\n",
        "    ``` python\n",
        "    print(np.zeros(5))\n",
        "\n",
        "    print(np.zeros((5,7)))\n",
        "\n",
        "    print(np.ones((5,7)))\n",
        "    ```\n",
        "\n",
        "        [0. 0. 0. 0. 0.]\n",
        "        [[0. 0. 0. 0. 0. 0. 0.]\n",
        "         [0. 0. 0. 0. 0. 0. 0.]\n",
        "         [0. 0. 0. 0. 0. 0. 0.]\n",
        "         [0. 0. 0. 0. 0. 0. 0.]\n",
        "         [0. 0. 0. 0. 0. 0. 0.]]\n",
        "        [[1. 1. 1. 1. 1. 1. 1.]\n",
        "         [1. 1. 1. 1. 1. 1. 1.]\n",
        "         [1. 1. 1. 1. 1. 1. 1.]\n",
        "         [1. 1. 1. 1. 1. 1. 1.]\n",
        "         [1. 1. 1. 1. 1. 1. 1.]]\n",
        "\n",
        "-   Data types- NumPy allows for flexibility in interacting with data\n",
        "    and their types.\n",
        "\n",
        "-   You can convert an array from one data type to another using the\n",
        "    astype method\n",
        "\n",
        "    ``` python\n",
        "    arr2 = np.array([1, 2, 3, 4, 5])\n",
        "\n",
        "    print(arr2.dtype)\n",
        "\n",
        "    float_arr = arr2.astype(np.float64)\n",
        "\n",
        "    print(float_arr)\n",
        "\n",
        "    print(float_arr.dtype)\n",
        "    ```\n",
        "\n",
        "        int64\n",
        "        [1. 2. 3. 4. 5.]\n",
        "        float64\n",
        "\n",
        "-   You can also convert an array of strings that represent numbers to\n",
        "    numeric form by using astype\n",
        "\n",
        "    ``` python\n",
        "    numeric_string = np.array([\"1.8\", \"-10\", \"54.7\"], dtype=np.string_)\n",
        "\n",
        "    print(numeric_string)\n",
        "\n",
        "    numeric_string.astype(float)\n",
        "\n",
        "    print(numeric_string)\n",
        "    ```\n",
        "\n",
        "        [b'1.8' b'-10' b'54.7']\n",
        "        [b'1.8' b'-10' b'54.7']\n",
        "\n",
        "-   Numpy has various universal functions that perform useful element\n",
        "    wise operations. Below are a few examples. Extensive documentation\n",
        "    of NumPy’s universal functions can be found at\n",
        "\n",
        "    <https://numpy.org/doc/stable/reference/routines.math.html>"
      ],
      "id": "7a2dce00-b572-4fe9-9767-bf812efd6541"
    },
    {
      "cell_type": "code",
      "execution_count": 6,
      "metadata": {},
      "outputs": [
        {
          "output_type": "stream",
          "name": "stdout",
          "text": [
            "[-15.           2.65896484]\n",
            "-113.87649168120691\n",
            "[1. 2. 3.]"
          ]
        }
      ],
      "source": [
        "#log10 example \n",
        "print(np.log10([1e-15, 456]))\n",
        "\n",
        "#calculate log(exp(x1) + exp(x2))\n",
        "#this is useful in statistics where calculated probablities may be too small \n",
        "\n",
        "prob1 = np.log(1e-50)\n",
        "prob2 = np.log(2.5e-50)\n",
        "prob12 = np.logaddexp(prob1, prob2)\n",
        "print(prob12)\n",
        "\n",
        "\n",
        "#sqrt example\n",
        "print(np.sqrt([1,4,9]))"
      ],
      "id": "be03947b-118c-4448-8095-c6b533a9994b"
    }
  ],
  "nbformat": 4,
  "nbformat_minor": 5,
  "metadata": {
    "kernelspec": {
      "name": "python3",
      "display_name": "Python 3 (ipykernel)",
      "language": "python"
    },
    "language_info": {
      "name": "python",
      "codemirror_mode": {
        "name": "ipython",
        "version": "3"
      },
      "file_extension": ".py",
      "mimetype": "text/x-python",
      "nbconvert_exporter": "python",
      "pygments_lexer": "ipython3",
      "version": "3.9.13"
    }
  }
}

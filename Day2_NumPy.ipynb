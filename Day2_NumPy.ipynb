{
  "cells": [
    {
      "cell_type": "raw",
      "metadata": {},
      "source": [
        "---\n",
        "title: NumPy\n",
        "format: ipynb\n",
        "editor: visual\n",
        "---"
      ],
      "id": "c891c1ab"
    },
    {
      "cell_type": "markdown",
      "metadata": {},
      "source": [
        "# NumPy\n",
        "\n",
        "-   NumPy is short for Numerical Python\n",
        "\n",
        "-   ndarray, an efficient multidimensional array providing fast array-oriented arithmetic operations\n",
        "\n",
        "-   Math functions for fast operations to avoid writing loops\n",
        "\n",
        "-   Linear algebra and random number generation\n",
        "\n",
        "-   Designed for large arrays of data\n",
        "\n",
        "\n",
        "    ```{r}\n",
        "    library(reticulate)\n",
        "    ```"
      ],
      "id": "1787e14e"
    },
    {
      "cell_type": "code",
      "metadata": {
        "md-indent": "    "
      },
      "source": [
        "#creating a ndarray\n",
        "\n",
        "import numpy as np \n",
        "\n",
        "data1 = [6, 7.5, 8, 0, 1]\n",
        "\n",
        "arr1 = np.array(data1)\n",
        "\n",
        "print(arr1)"
      ],
      "id": "d18358bb",
      "execution_count": null,
      "outputs": []
    },
    {
      "cell_type": "code",
      "metadata": {},
      "source": [
        "#Examples of batch computation \n",
        "print(data1 * 20)\n",
        "\n",
        "\n",
        "print(data1 + data1)"
      ],
      "id": "7ac404d8",
      "execution_count": null,
      "outputs": []
    },
    {
      "cell_type": "markdown",
      "metadata": {},
      "source": [
        "-   In addition to numpy.array, numpy.zeros and numpy.ones can be used to create arrays of 0s or 1s with a given shape\\\n"
      ],
      "id": "9a1fd423"
    },
    {
      "cell_type": "code",
      "metadata": {
        "md-indent": "    "
      },
      "source": [
        "print(np.zeros(5))\n",
        "\n",
        "print(np.zeros((5,7)))\n",
        "\n",
        "print(np.ones((5,7)))"
      ],
      "id": "fd0acf4b",
      "execution_count": null,
      "outputs": []
    },
    {
      "cell_type": "markdown",
      "metadata": {},
      "source": [
        "-   Data types- NumPy allows for flexibility in interacting with data and their types.\n",
        "\n",
        "-   You can convert an array from one data type to another using the astype method\n"
      ],
      "id": "ad515a92"
    },
    {
      "cell_type": "code",
      "metadata": {
        "md-indent": "    "
      },
      "source": [
        "arr2 = np.array([1, 2, 3, 4, 5])\n",
        "\n",
        "print(arr2.dtype)\n",
        "\n",
        "float_arr = arr2.astype(np.float64)\n",
        "\n",
        "print(float_arr)\n",
        "\n",
        "print(float_arr.dtype)"
      ],
      "id": "6333377b",
      "execution_count": null,
      "outputs": []
    },
    {
      "cell_type": "markdown",
      "metadata": {},
      "source": [
        "-   You can also convert an array of strings that represent numbers to numeric form by using astype\n"
      ],
      "id": "e4437774"
    },
    {
      "cell_type": "code",
      "metadata": {
        "md-indent": "    "
      },
      "source": [
        "numeric_string = np.array([\"1.8\", \"-10\", \"54.7\"], dtype=np.string_)\n",
        "\n",
        "print(numeric_string)\n",
        "\n",
        "numeric_string.astype(float)\n",
        "\n",
        "print(numeric_string)"
      ],
      "id": "e4bd2394",
      "execution_count": null,
      "outputs": []
    },
    {
      "cell_type": "markdown",
      "metadata": {},
      "source": [
        "-   Numpy has various universal functions that perform useful element wise operations. Below are a few examples. Extensive documentation of NumPy's universal functions can be found at\n",
        "\n",
        "    <https://numpy.org/doc/stable/reference/routines.math.html>\n"
      ],
      "id": "125298df"
    },
    {
      "cell_type": "code",
      "metadata": {},
      "source": [
        "#log10 example \n",
        "print(np.log10([1e-15, 456]))\n",
        "\n",
        "#calculate log(exp(x1) + exp(x2))\n",
        "#this is useful in statistics where calculated probablities may be too small \n",
        "\n",
        "prob1 = np.log(1e-50)\n",
        "prob2 = np.log(2.5e-50)\n",
        "prob12 = np.logaddexp(prob1, prob2)\n",
        "print(prob12)\n",
        "\n",
        "\n",
        "#sqrt example\n",
        "print(np.sqrt([1,4,9]))"
      ],
      "id": "783ba517",
      "execution_count": null,
      "outputs": []
    }
  ],
  "metadata": {
    "kernelspec": {
      "name": "python3",
      "language": "python",
      "display_name": "Python 3 (ipykernel)"
    }
  },
  "nbformat": 4,
  "nbformat_minor": 5
}
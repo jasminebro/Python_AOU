{
  "cells": [
    {
      "cell_type": "markdown",
      "metadata": {},
      "source": [
        "# Functions\n",
        "\n",
        "# Functions\n",
        "\n",
        "-   The most important method of code organization in Python (and R)\n",
        "\n",
        "-   If you plan on repeating the same coding task at least 3 times it is\n",
        "    worth writing a reusable function.\n",
        "\n",
        "-   Functions are declare with the def keyword and contains a block of\n",
        "    code with an optional return keyword."
      ],
      "id": "d8540834-4add-44a6-b037-305a66697688"
    },
    {
      "cell_type": "code",
      "execution_count": 1,
      "metadata": {},
      "outputs": [],
      "source": [
        "#test function\n",
        "\n",
        "def my_function(x,y):\n",
        "  return x + y "
      ],
      "id": "95b3d60d-d1c3-4a39-abad-d87f584d7556"
    },
    {
      "cell_type": "markdown",
      "metadata": {},
      "source": [
        "-   Our test function above is named my_function, takes two inputs (x\n",
        "    and y) and will return x+ y. Let’s try our function.\n",
        "\n",
        "    ``` python\n",
        "    my_function(4,5)\n",
        "    ```\n",
        "\n",
        "        9\n",
        "\n",
        "Now, let’s try a function without a return statement. None is returned\n",
        "automatically if Python encounters a function with not return statement\n",
        "at the end."
      ],
      "id": "19053dc0-41ba-405f-8310-e99480022d4a"
    },
    {
      "cell_type": "code",
      "execution_count": 3,
      "metadata": {},
      "outputs": [
        {
          "output_type": "stream",
          "name": "stdout",
          "text": [
            "BCM\n",
            "None"
          ]
        }
      ],
      "source": [
        "def function_noreturn(x):\n",
        "  print(x)\n",
        "  \n",
        "\n",
        "noreturn = function_noreturn(\"BCM\")\n",
        "\n",
        "print(noreturn)\n"
      ],
      "id": "af53628d-209f-4e02-8714-914eb01f9cf3"
    },
    {
      "cell_type": "markdown",
      "metadata": {},
      "source": [
        "-   All functions have positional and keyword arguments.\n",
        "\n",
        "-   Keyword arguments are used to specify default values and optional\n",
        "    arguments.\n",
        "\n",
        "-   Below we have an example with x, y, and z as an optional argument\n",
        "    with a default value of 2\n",
        "\n",
        "    ``` python\n",
        "    def my_functionz(x,y, z=2):\n",
        "      if z < 5:\n",
        "        return z * (x+y)\n",
        "      else:\n",
        "        return z * (x-y)\n",
        "    ```"
      ],
      "id": "a78cdb38-5e4d-4721-a4e4-03761e527ab0"
    },
    {
      "cell_type": "code",
      "execution_count": 5,
      "metadata": {},
      "outputs": [
        {
          "output_type": "display_data",
          "metadata": {},
          "data": {
            "text/plain": [
              "-45"
            ]
          }
        }
      ],
      "source": [
        "my_functionz(3,8)\n",
        "\n",
        "my_functionz(3,8, 9)"
      ],
      "id": "d2c9cae6-2038-4146-a0f5-6084ac577f7a"
    },
    {
      "cell_type": "markdown",
      "metadata": {},
      "source": [
        "-   You can return multiple values from Python functions.\n",
        "\n",
        "-   The function returns a tuple and the variables are saved to the\n",
        "    local environment\n",
        "\n",
        "    ``` python\n",
        "    def f():\n",
        "      a = 8\n",
        "      b = 3\n",
        "      c = 1\n",
        "      return a,b,c\n",
        "\n",
        "    a,b,c = f()\n",
        "    ```\n",
        "\n",
        "-   Functions are also objects.\n",
        "\n",
        "-   Let’s try a data cleaning example. Below is an example of how survey\n",
        "    title names may have been recorded at different site locations.\n",
        "\n",
        "    ``` python\n",
        "    surveytopics = [\"Rural##\", \"rural?\", \"city\"]\n",
        "    ```\n",
        "\n",
        "    ``` python\n",
        "    import re\n",
        "\n",
        "    def clean_strings(strings):\n",
        "        result = []\n",
        "        for value in strings:\n",
        "            value = value.strip()\n",
        "            value = re.sub(\"[!#?]\", \"\", value)\n",
        "            value = value.title()\n",
        "            result.append(value)\n",
        "        return result\n",
        "    ```"
      ],
      "id": "2fadc953-cfac-489e-a17f-a5590829a2f8"
    },
    {
      "cell_type": "code",
      "execution_count": 9,
      "metadata": {},
      "outputs": [
        {
          "output_type": "display_data",
          "metadata": {},
          "data": {
            "text/plain": [
              "['Rural', 'Rural', 'City']"
            ]
          }
        }
      ],
      "source": [
        "clean_strings(surveytopics)"
      ],
      "id": "8a9822c4-15cf-4c3d-89d1-10a639a57a3e"
    },
    {
      "cell_type": "markdown",
      "metadata": {},
      "source": [
        "## Errors in Python\n",
        "\n",
        "### Top 3 Errors\n",
        "\n",
        "-   **Syntax Error**: invalid syntax; forgetting parenthesis, forgetting\n",
        "    colons, trying to use a word more than once for a variable\n",
        "\n",
        "-   **Indentation Error**: expected an indented block; forgetting to\n",
        "    indent statements within bodies of if and for\n",
        "\n",
        "-   **Indentation Error**: unexpected indent\n",
        "\n",
        "<https://inventwithpython.com/blog/2012/07/09/16-common-python-runtime-errors-beginners-find/>\n",
        "\n",
        "### Common Debugging Strategies\n",
        "\n",
        "Debugging- the process of locating and removing errors in your programs.\n",
        "\n",
        "-   Make sure you are editing the version of the program that you are\n",
        "    actually using.\n",
        "\n",
        "-   Make sure your save your changes to the program file before\n",
        "    executing.\n",
        "\n",
        "-   Check line endings and compensation for them. Make sure your program\n",
        "    is reading one line at a time.\n",
        "\n",
        "-   One way to avoid this problem is to open files with a universal new\n",
        "    line by adding the U flag.\n",
        "\n",
        "-   InFile= open(InFileName, ‘rU’)\n",
        "\n",
        "-   Check the contents of your data file."
      ],
      "id": "f47ae3e1-39e2-4c3b-a174-b3451b088a78"
    }
  ],
  "nbformat": 4,
  "nbformat_minor": 5,
  "metadata": {
    "kernelspec": {
      "name": "python3",
      "display_name": "Python 3 (ipykernel)",
      "language": "python"
    },
    "language_info": {
      "name": "python",
      "codemirror_mode": {
        "name": "ipython",
        "version": "3"
      },
      "file_extension": ".py",
      "mimetype": "text/x-python",
      "nbconvert_exporter": "python",
      "pygments_lexer": "ipython3",
      "version": "3.10.8"
    }
  }
}
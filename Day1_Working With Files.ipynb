{
  "cells": [
    {
      "cell_type": "markdown",
      "metadata": {},
      "source": [
        "# Working with files\n",
        "\n",
        "# Working with Files\n",
        "\n",
        "Why do we care about this?​\n",
        "\n",
        "-   Data we typically get in the biological sciences are stored in files​\n",
        "\n",
        "-   If you plan on writing scripts/software, you need to know how to\n",
        "    read, write and extract information from files.​\n",
        "\n",
        "-   Many biological files are stored in text files which are easy to\n",
        "    parse and manipulate with python. ​\n",
        "\n",
        "-   Sequencing Reads​\n",
        "\n",
        "-   Quality Scores​\n",
        "\n",
        "-   SNPS​\n",
        "\n",
        "-   Phylogenetic Trees​\n",
        "\n",
        "-   Geographical sample data​\n",
        "\n",
        "-   Etc.​\n",
        "\n",
        "    ## \n",
        "\n",
        "    Arguments for the open function\n",
        "\n",
        "-   The open function is a Python built-in function to open files.\n",
        "\n",
        "    -   “r” is for reading​\n",
        "\n",
        "    -   “w” is for writing​\n",
        "\n",
        "    -   “a” is for appending​\n",
        "\n",
        "        -   “w” vs.”a”​\n",
        "\n",
        "        -   If you open a file and use the “w” argument you will\n",
        "            overwrite the file.​\n",
        "\n",
        "        -   If you open an existing file and use the “a” argument you\n",
        "            will add new data to the end of the file. ​\n",
        "\n",
        "        -   Always close your files after you are done reading and\n",
        "            writing.\n",
        "\n",
        "        -   Always use the \\# when commenting your code. Comments are\n",
        "            helpful as “notes to self” about sections of code"
      ],
      "id": "6154c3b6-630b-4435-92ed-fbe54d843536"
    },
    {
      "cell_type": "code",
      "execution_count": 1,
      "metadata": {},
      "outputs": [
        {
          "output_type": "stream",
          "name": "stdout",
          "text": [
            "person_id,survey_datatime,survey,question_concept_id,question,answer_concept_id,answer,survey_version_concept_id,survey_version_name\n",
            "\n",
            "1,2019-09-06 18:56:49 UTC,Healthcare Access and Utilization,43530268,Delayed Medical Care: Rural Area,43529416,Delayed Care Rural Area: No,NA,NA\n",
            "2,2019-09-06 18:56:49 UTC,Healthcare Access and Utilization,43530268,Delayed Medical Care: Rural Area,43530110,Delayed Care Rural Area:Yes,NA,NA\n",
            "3,2019-09-06 18:56:49 UTC,Healthcare Access and Utilization,43530268,Delayed Medical Care: Rural Area,43529416,Delayed Care Rural Area: No,NA,NA\n",
            "4,2019-09-06 18:56:49 UTC,Healthcare Access and Utilization,43530268,Delayed Medical Care: Rural Area,43530110,Delayed Care Rural Area:Yes,NA,NA\n",
            "5,2019-09-06 18:56:49 UTC,Healthcare Access and Utilization,43530268,Delayed Medical Care: Rural Area,43529416,Delayed Care Rural Area: No,NA,NA\n",
            "6,2019-09-06 18:56:49 UTC,Healthcare Access and Utilization,43530268,Delayed Medical Care: Rural Area,43530110,Delayed Care Rural Area:Yes,NA,NA\n",
            "7,2019-09-06 18:56:49 UTC,Healthcare Access and Utilization,43530268,Delayed Medical Care: Rural Area,43529416,Delayed Care Rural Area: No,NA,NA\n",
            "8,2019-09-06 18:56:49 UTC,Healthcare Access and Utilization,43530268,Delayed Medical Care: Rural Area,43530110,Delayed Care Rural Area:Yes,NA,NA\n",
            "9,2019-09-06 18:56:49 UTC,Healthcare Access and Utilization,43530268,Delayed Medical Care: Rural Area,43529416,Delayed Care Rural Area: No,NA,NA\n",
            "10,2019-09-06 18:56:49 UTC,Healthcare Access and Utilization,43530268,Delayed Medical Care: Rural Area,43530110,Delayed Care Rural Area:Yes,NA,NA\n",
            "11,2019-09-06 18:56:49 UTC,Healthcare Access and Utilization,43530268,Delayed Medical Care: Rural Area,43529416,Delayed Care Rural Area: No,NA,NA\n",
            "12,2019-09-06 18:56:49 UTC,Healthcare Access and Utilization,43530268,Delayed Medical Care: Rural Area,43530110,Delayed Care Rural Area:Yes,NA,NA\n",
            "13,2019-09-06 18:56:49 UTC,Healthcare Access and Utilization,43530268,Delayed Medical Care: Rural Area,43529416,Delayed Care Rural Area: No,NA,NA\n",
            "14,2019-09-06 18:56:49 UTC,Healthcare Access and Utilization,43530268,Delayed Medical Care: Rural Area,43530110,Delayed Care Rural Area:Yes,NA,NA\n",
            "15,2019-09-06 18:56:49 UTC,Healthcare Access and Utilization,43530268,Delayed Medical Care: Rural Area,43529416,Delayed Care Rural Area: No,NA,NA\n",
            "16,2019-09-06 18:56:49 UTC,Healthcare Access and Utilization,43530268,Delayed Medical Care: Rural Area,43530110,Delayed Care Rural Area:Yes,NA,NA\n",
            "17,2019-09-06 18:56:49 UTC,Healthcare Access and Utilization,43530268,Delayed Medical Care: Rural Area,43529416,Delayed Care Rural Area: No,NA,NA\n",
            "18,2019-09-06 18:56:49 UTC,Healthcare Access and Utilization,43530268,Delayed Medical Care: Rural Area,43530110,Delayed Care Rural Area:Yes,NA,NA\n",
            "19,2019-09-06 18:56:49 UTC,Healthcare Access and Utilization,43530268,Delayed Medical Care: Rural Area,43529416,Delayed Care Rural Area: No,NA,NA\n",
            "20,2019-09-06 18:56:49 UTC,Healthcare Access and Utilization,43530268,Delayed Medical Care: Rural Area,43530110,Delayed Care Rural Area:Yes,NA,NA\n",
            "21,2019-09-06 18:56:49 UTC,Healthcare Access and Utilization,43530268,Delayed Medical Care: Rural Area,43529416,Delayed Care Rural Area: No,NA,NA\n",
            "22,2019-09-06 18:56:49 UTC,Healthcare Access and Utilization,43530268,Delayed Medical Care: Rural Area,43530110,Delayed Care Rural Area:Yes,NA,NA\n"
          ]
        }
      ],
      "source": [
        "import pandas as pd\n",
        "from pandas import Series, DataFrame\n",
        "\n",
        "data = open(\"AOURuralSurvey.csv\")\n",
        "\n",
        "data_contents = data.read() \n",
        "\n",
        "print(data_contents)\n",
        "\n",
        "df = pd.read_csv(\"AOURuralSurvey.csv\")"
      ],
      "id": "3d2d5acc-6283-4ce0-b1e4-1503bb123352"
    }
  ],
  "nbformat": 4,
  "nbformat_minor": 5,
  "metadata": {
    "kernelspec": {
      "name": "python3",
      "display_name": "Python 3 (ipykernel)",
      "language": "python"
    },
    "language_info": {
      "name": "python",
      "codemirror_mode": {
        "name": "ipython",
        "version": "3"
      },
      "file_extension": ".py",
      "mimetype": "text/x-python",
      "nbconvert_exporter": "python",
      "pygments_lexer": "ipython3",
      "version": "3.10.8"
    }
  }
}